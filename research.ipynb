{
 "cells": [
  {
   "cell_type": "markdown",
   "metadata": {},
   "source": [
    "# Research for Machine Learning Project\n"
   ]
  },
  {
   "cell_type": "markdown",
   "metadata": {},
   "source": [
    "## Speaker Diarisation\n",
    "\n",
    "There are many different models that perform speaker diarisation. Below are a few to look into;\n",
    "\n",
    "- [NVIDIA NeMo 2](https://github.com/NVIDIA/NeMo):\n",
    "This is open-sourced software that is used to develop conversational AI models. It performs automatic speech recognition (ASR), Text to Speech (TTS) and NAtural Language Processing. According to the documentation it \"requires a minimum of 1 NVIDIA GPU with at least 48GB memory for finetuning, and 2 NVIDIA GPUs with atleast 48GB memory each for pretraining\", so it probably not suitable for this project.\n",
    "- [PyAnnote](https://docs.pyannote.ai/introduction):\n",
    "This is also an open-sourced Spearker Diarisation model. It offers pre trained models. It should perform well for standard tasks but can struggle wiht larger datasets.\n",
    "- [Deepgram](https://developers.deepgram.com/docs/introduction)\n",
    "Deepgram is a commercial product and as such has high accuracy. It's trained on massive datasets ensuring it works across many scenarios and languages. The subscription fees in this case mean it is not suitable for our purposes here.  \n",
    "- [WhisperX](https://github.com/m-bain/whisperX/blob/main/README.md)\n",
    "WhisperX is an open source, speech recognition model created by OpenAI\n"
   ]
  },
  {
   "cell_type": "markdown",
   "metadata": {},
   "source": [
    "#resources\n",
    "\n",
    "- https://www.assemblyai.com/blog/top-speaker-diarization-libraries-and-apis/\n",
    "- https://github.com/NVIDIA/NeMo\n",
    "- https://docs.pyannote.ai/introduction\n",
    "- https://developers.deepgram.com/docs/introduction\n",
    "- https://github.com/m-bain/whisperX/blob/main/README.md\n",
    "- https://konstantin-rink.medium.com/transcribe-audio-files-with-openais-whisper-e973ae348aa7\n",
    "- https://www.youtube.com/watch?v=kCToqfFjGck\n",
    "- https://github.com/pyannote/pyannote-audio/blob/develop/README.md"
   ]
  },
  {
   "cell_type": "markdown",
   "metadata": {},
   "source": []
  }
 ],
 "metadata": {
  "language_info": {
   "name": "python"
  }
 },
 "nbformat": 4,
 "nbformat_minor": 2
}
