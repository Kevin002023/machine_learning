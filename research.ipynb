{
 "cells": [
  {
   "cell_type": "markdown",
   "metadata": {},
   "source": [
    "# Research for Machine Learning Project\n"
   ]
  },
  {
   "cell_type": "markdown",
   "metadata": {},
   "source": [
    "\n"
   ]
  },
  {
   "cell_type": "markdown",
   "metadata": {},
   "source": [
    "#resources\n",
    "\n",
    "1 - https://support.google.com/youtube/answer/6373554?hl=en&utm_source=chatgpt.com\n",
    "2 - https://medium.com/@zhouxiaogan0/how-do-voice-assistants-like-alexa-siri-actually-work-1885dce1f683\n",
    "3 - https://www.geeksforgeeks.org/what-is-speech-recognition/\n",
    "4 - https://otter.ai/\n",
    "5 - https://github.com/NVIDIA/NeMoC:\\Users\\kolea\\Data Analytics\\machine_learning\\research.ipynb\n",
    "6 - https://docs.pyannote.ai/introduction\n",
    "7 - https://developers.deepgram.com/docs/introduction\n",
    "8 - https://github.com/m-bain/whisperX/blob/main/README.md\n",
    "9 - https://audiosegment.readthedocs.io/en/latest/audiosegment.html\n",
    "10 - https://huggingface.co/blog/sentiment-analysis-python\n",
    "11 -\n",
    "\n",
    "- https://www.assemblyai.com/blog/top-speaker-diarization-libraries-and-apis/\n",
    "- https://github.com/NVIDIA/NeMo\n",
    "- https://docs.pyannote.ai/introduction\n",
    "- https://developers.deepgram.com/docs/introduction\n",
    "- https://github.com/m-bain/whisperX/blob/main/README.md\n",
    "- https://konstantin-rink.medium.com/transcribe-audio-files-with-openais-whisper-e973ae348aa7\n",
    "- https://www.youtube.com/watch?v=kCToqfFjGck\n",
    "- https://github.com/pyannote/pyannote-audio/blob/develop/README.md\n",
    "- https://audiosegment.readthedocs.io/en/latest/audiosegment.html\n",
    "- https://huggingface.co/blog/sentiment-analysis-python \n",
    "- https://community.openai.com/t/how-do-i-call-chatgpt-api-with-python-code/554554\n",
    "- https://www.assemblyai.com/docs/getting-started"
   ]
  },
  {
   "cell_type": "markdown",
   "metadata": {},
   "source": []
  }
 ],
 "metadata": {
  "language_info": {
   "name": "python"
  }
 },
 "nbformat": 4,
 "nbformat_minor": 2
}
